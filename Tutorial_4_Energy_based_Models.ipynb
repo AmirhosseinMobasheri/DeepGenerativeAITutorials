{
  "nbformat": 4,
  "nbformat_minor": 0,
  "metadata": {
    "colab": {
      "provenance": [],
      "gpuType": "T4"
    },
    "kernelspec": {
      "name": "python3",
      "display_name": "Python 3"
    },
    "language_info": {
      "name": "python"
    },
    "accelerator": "GPU"
  },
  "cells": [
    {
      "cell_type": "markdown",
      "source": [
        "**Energy-based Models: Boltzmann Machine**\n",
        "\n",
        "The energy function of a Fully Visible Boltzmann Machine is described by:\n",
        "\n",
        "$E(x) = -\\frac{1}{2} x^TWx - b^Tx$\n",
        "\n",
        "where $W$ is a symmetric matrix with zero digonal and $b$ is a bias vector"
      ],
      "metadata": {
        "id": "LJV8tlMudmWt"
      }
    },
    {
      "cell_type": "code",
      "execution_count": null,
      "metadata": {
        "colab": {
          "base_uri": "https://localhost:8080/"
        },
        "id": "ah81i5Ccdh2y",
        "outputId": "f0e08134-b37c-4345-bd8b-2df34efb0b11"
      },
      "outputs": [
        {
          "output_type": "stream",
          "name": "stdout",
          "text": [
            "Samples from FV-BM: tensor([[1., 1., 0.],\n",
            "        [0., 1., 1.],\n",
            "        [1., 1., 1.],\n",
            "        [0., 0., 1.],\n",
            "        [0., 0., 1.],\n",
            "        [0., 1., 0.],\n",
            "        [1., 1., 1.],\n",
            "        [1., 1., 0.],\n",
            "        [0., 1., 0.],\n",
            "        [1., 0., 1.]], device='cuda:0', grad_fn=<CopySlices>)\n"
          ]
        }
      ],
      "source": [
        "import torch\n",
        "import torch.nn as nn\n",
        "\n",
        "device = torch.device('cuda' if torch.cuda.is_available() else 'cpu')\n",
        "\n",
        "class FullyVisibleBM(nn.Module):\n",
        "    def __init__(self, n_visible):\n",
        "        super().__init__()\n",
        "        self.W = nn.Parameter(torch.randn(n_visible, n_visible) * 0.01)\n",
        "        # zero-diagonal mask\n",
        "        self.register_buffer('mask', 1 - torch.eye(n_visible))\n",
        "        self.v_bias = nn.Parameter(torch.zeros(n_visible))\n",
        "\n",
        "    def energy(self, v):\n",
        "        quad = -0.5 * torch.sum((v @ (self.W * self.mask)) * v, dim=1)\n",
        "        lin  = -torch.matmul(v, self.v_bias)\n",
        "        return quad + lin\n",
        "\n",
        "    def cond_prob(self, v, l):\n",
        "        \"\"\"Compute P(v_i=1 | v_-i) excluding self-connection.\"\"\"\n",
        "        # Masked weights with zero diagonal to prevent self-interaction\n",
        "        W_masked = self.W * self.mask\n",
        "        # For symmetric W, W_masked[:, i] == W_masked[i, :]\n",
        "        # Sum contributions from all other units j != i\n",
        "        activation = torch.matmul(v, W_masked[:, l])\n",
        "        return torch.sigmoid(activation)\n",
        "\n",
        "    def gibbs_sample(self, v0, k=10):\n",
        "        v = v0.clone()\n",
        "        for _ in range(k):\n",
        "            for i in range(v.size(1)):\n",
        "                p = self.cond_prob(v, i)\n",
        "                v[:, i] = torch.bernoulli(p)\n",
        "        return v\n",
        "\n",
        "# Toy data: 3-bit even parity patterns\n",
        "data = torch.tensor([[0,0,0],[0,1,1],[1,0,1],[1,1,0]], dtype=torch.float32).to(device)\n",
        "bm = FullyVisibleBM(n_visible=3).to(device)\n",
        "opt = torch.optim.SGD(bm.parameters(), lr=0.1)\n",
        "\n",
        "# Contrastive Divergence (CD-1) training\n",
        "for epoch in range(1000):\n",
        "    # Positive phase: compute data expectations\n",
        "    v_data = data                        # shape [N, D]\n",
        "    data_mean = v_data.mean(dim=0)       # E_data[v_i]\n",
        "    # E_data[v_i v_j]: average outer product over the dataset\n",
        "    data_corr = torch.einsum('nd,ne->de', v_data, v_data) / v_data.size(0)\n",
        "\n",
        "    # Negative phase: sample from the model to estimate model expectations\n",
        "    v_model = bm.gibbs_sample(\n",
        "        torch.bernoulli(torch.full_like(data, 0.5)), k=10\n",
        "    )  # one-step Gibbs chain\n",
        "    model_mean = v_model.mean(dim=0)      # E_model[v_i]\n",
        "    # E_model[v_i v_j]: average outer product over model samples\n",
        "    model_corr = torch.einsum('nd,ne->de', v_model, v_model) / v_model.size(0)\n",
        "\n",
        "    # Compute gradients of log-likelihood (data minus model expectations)\n",
        "    grad_W = data_corr - model_corr      # ∂L/∂W_{ij}\n",
        "    grad_b = data_mean - model_mean      # ∂L/∂b_i\n",
        "\n",
        "    # Apply parameter updates (ascent on log-likelihood)\n",
        "    opt.zero_grad()\n",
        "    bm.W.grad = -grad_W * bm.mask        # negative for gradient ascent\n",
        "    bm.v_bias.grad = -grad_b             # negative for gradient ascent\n",
        "    opt.step()\n",
        "\n",
        "# Sampling\n",
        "init = torch.bernoulli(torch.full((10,3),0.5)).to(device)\n",
        "samples = bm.gibbs_sample(init, k=20)\n",
        "print(\"Samples from FV-BM:\", samples)"
      ]
    },
    {
      "cell_type": "markdown",
      "source": [
        "Neural-based Energy Models"
      ],
      "metadata": {
        "id": "7m3DxKnIh10g"
      }
    },
    {
      "cell_type": "code",
      "source": [
        "import numpy as np\n",
        "import matplotlib.pyplot as plt\n",
        "\n",
        "# 1D data\n",
        "np.random.seed(0)\n",
        "data = np.concatenate([np.random.normal(-2,0.5,1000), np.random.normal(2,0.5,1000)])\n",
        "data = torch.tensor(data, dtype=torch.float32).unsqueeze(1).to(device)\n",
        "\n",
        "# Neural EBM\n",
        "class NeuralEBM(nn.Module):\n",
        "    def __init__(self):\n",
        "        super().__init__()\n",
        "        self.net = nn.Sequential(\n",
        "            nn.Linear(1, 128), nn.SiLU(), nn.Linear(128, 1)\n",
        "        )\n",
        "    def forward(self, x):\n",
        "        return self.net(x)\n",
        "\n",
        "model = NeuralEBM().to(device)\n",
        "opt = torch.optim.Adam(model.parameters(), lr=1e-3)\n",
        "\n",
        "# Langevin sampler\n",
        "def langevin_sample(x_init, model, steps, step_size, noise_scale):\n",
        "    x = x_init.clone().detach().requires_grad_(True)\n",
        "    for _ in range(steps):\n",
        "        E = model(x).sum()\n",
        "        grad = torch.autograd.grad(E, x)[0]\n",
        "        x = x - step_size * grad + noise_scale * torch.randn_like(x)\n",
        "        x = x.detach().requires_grad_(True)\n",
        "    return x.detach()\n",
        "\n",
        "# Training loop\n",
        "for epoch in range(20):\n",
        "    # positive phase\n",
        "    idx = torch.randint(0, data.size(0), (256,))\n",
        "    x_pos = data[idx]\n",
        "    # negative phase: init from noise\n",
        "    x_neg = torch.randn(256,1, device=device)\n",
        "    x_neg = langevin_sample(x_neg, model, steps=2, step_size=0.1, noise_scale=0.01)\n",
        "\n",
        "    E_pos = model(x_pos).mean()\n",
        "    E_neg = model(x_neg).mean()\n",
        "    # loss = E_data - E_model; note this can be negative if E_model > E_data\n",
        "    loss = E_pos - E_neg\n",
        "\n",
        "    opt.zero_grad()\n",
        "    loss.backward()\n",
        "    opt.step()\n",
        "\n",
        "    if epoch % 500 == 0:\n",
        "        # print both energies and the loss; loss negative means model samples have lower energy\n",
        "        print(f\"Epoch {epoch}, E_data {E_pos.item():.4f}, E_model {E_neg.item():.4f}, loss {loss.item():.4f}\")\n",
        "\n",
        "# Visualize learned density via exp(-E(x)) via exp(-E(x))\n",
        "xs = torch.linspace(-5,5,10000).unsqueeze(1).to(device)\n",
        "E = model(xs).detach().cpu().numpy().flatten()\n",
        "density = np.exp(-E)\n",
        "density /= density.mean() # arbitrary normalization\n",
        "\n",
        "plt.figure()\n",
        "plt.hist(data.cpu().numpy(), bins=50, density=True, alpha=0.3)\n",
        "plt.plot(xs.cpu().numpy(), density)\n",
        "plt.title(\"Learned density vs data histogram\")\n",
        "plt.show()"
      ],
      "metadata": {
        "colab": {
          "base_uri": "https://localhost:8080/"
        },
        "id": "09kXoJChh9QG",
        "outputId": "0a0de6e3-06a9-454b-e0c5-d228f51204c6"
      },
      "execution_count": null,
      "outputs": [
        {
          "output_type": "stream",
          "name": "stdout",
          "text": [
            "Epoch 0, E_data 0.1097, E_model -0.1257, loss 0.2354\n"
          ]
        }
      ]
    },
    {
      "cell_type": "code",
      "source": [
        "plt.figure()\n",
        "plt.hist(data.cpu().numpy(), bins=50, density=True, alpha=1)\n",
        "plt.plot(xs.cpu().numpy(), density)\n",
        "plt.title(\"Learned density vs data histogram\")\n",
        "plt.show()"
      ],
      "metadata": {
        "colab": {
          "base_uri": "https://localhost:8080/",
          "height": 452
        },
        "id": "fI2O_dESiMBy",
        "outputId": "b7904f22-9b65-49d8-88d6-d8f9e6fbe464"
      },
      "execution_count": null,
      "outputs": [
        {
          "output_type": "display_data",
          "data": {
            "text/plain": [
              "<Figure size 640x480 with 1 Axes>"
            ],
            "image/png": "[encoded data removed]"
          },
          "metadata": {}
        }
      ]
    }
  ]
}